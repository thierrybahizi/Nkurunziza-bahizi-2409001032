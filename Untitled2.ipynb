{
  "nbformat": 4,
  "nbformat_minor": 0,
  "metadata": {
    "colab": {
      "provenance": [],
      "authorship_tag": "ABX9TyPxTieFr3q243zGfC+3Wphd",
      "include_colab_link": true
    },
    "kernelspec": {
      "name": "python3",
      "display_name": "Python 3"
    },
    "language_info": {
      "name": "python"
    }
  },
  "cells": [
    {
      "cell_type": "markdown",
      "metadata": {
        "id": "view-in-github",
        "colab_type": "text"
      },
      "source": [
        "<a href=\"https://colab.research.google.com/github/thierrybahizi/Nkurunziza-bahizi-2409001032/blob/main/Untitled2.ipynb\" target=\"_parent\"><img src=\"https://colab.research.google.com/assets/colab-badge.svg\" alt=\"Open In Colab\"/></a>"
      ]
    },
    {
      "cell_type": "code",
      "source": [
        "file1=\"history is the systematic study of the past\"\n",
        "file2=\" History is the systematic of the past this is just for practice \"\n",
        "def jaccard_similarity (file1,file2):\n",
        "   #split texts into sets of words\n",
        "   set1=set(file1.split())\n",
        "   set2=set(file2.split())\n",
        "\n",
        "   #find the intersection and union\n",
        "   intersection = set1.intersection(set2)\n",
        "   union= set1.union(set2)\n",
        "\n",
        "   #calculate jaccard similarity\n",
        "   similarity = len(intersection) / len(union)\n",
        "\n",
        "  #return similarity and intersecting words\n",
        "   return similarity , intersection\n",
        "\n",
        "#Call the function here:\n",
        "  similarity, common_words = jaccard_similarity(file1, file2)\n",
        "\n",
        "\n",
        "# Print the outcomes\n",
        "  print(f\"Similarity: {similarity:.2f}\")\n",
        "  print(f\"Common words: {common_words}\")"
      ],
      "metadata": {
        "colab": {
          "base_uri": "https://localhost:8080/"
        },
        "id": "ENrKRxVkHbo_",
        "outputId": "98049c6b-94f4-431e-8d40-cd013460fb63"
      },
      "execution_count": 12,
      "outputs": [
        {
          "output_type": "stream",
          "name": "stdout",
          "text": [
            "Similarity: 0.42\n",
            "Common words: {'the', 'systematic', 'is', 'past', 'of'}\n"
          ]
        }
      ]
    }
  ]
}