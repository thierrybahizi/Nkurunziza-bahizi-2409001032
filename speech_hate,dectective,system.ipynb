{
  "nbformat": 4,
  "nbformat_minor": 0,
  "metadata": {
    "colab": {
      "provenance": [],
      "authorship_tag": "ABX9TyNkCUmw/m5GC6Uln8Gd5OoW",
      "include_colab_link": true
    },
    "kernelspec": {
      "name": "python3",
      "display_name": "Python 3"
    },
    "language_info": {
      "name": "python"
    }
  },
  "cells": [
    {
      "cell_type": "markdown",
      "metadata": {
        "id": "view-in-github",
        "colab_type": "text"
      },
      "source": [
        "<a href=\"https://colab.research.google.com/github/thierrybahizi/Nkurunziza-bahizi-2409001032/blob/main/speech_hate%2Cdectective%2Csystem.ipynb\" target=\"_parent\"><img src=\"https://colab.research.google.com/assets/colab-badge.svg\" alt=\"Open In Colab\"/></a>"
      ]
    },
    {
      "cell_type": "code",
      "source": [
        "speech_hate_words = [\"inyenzi\", \"cockroaches\", \"kill\", \"exterminate\", \"destroy\",\n",
        "    \"traitors\", \"snakes\", \"rats\", \"hutu power\", \"tutsi\",\n",
        "    \"ethnic cleansing\", \"wipe out\", \"enemy\", \"revenge\",\n",
        "    \"impurity\", \"traitors\", \"infiltrators\", \"parasites \"]\n",
        "\n",
        "# Function to detect hate speech\n",
        "def detect_hate_speech(text):\n",
        "    detected_words = [word for word in offensive_words if word in text.lower()]\n",
        "    return detected_words\n",
        "\n",
        "# Example usage\n",
        "speech = \"The Tutsis are like cockroaches, they must be exterminated, they must be killed, and we, the Hutus, will be the ones to do it .\"\n",
        "hate_words = detect_hate_speech(text)\n",
        "if hate_words:\n",
        "    print(\"Hate speech detected! Offensive words:\", hate_words)\n",
        "else:\n",
        "    print(\"No hate speech detected.\")"
      ],
      "metadata": {
        "colab": {
          "base_uri": "https://localhost:8080/"
        },
        "id": "ZG0-M0bscFnq",
        "outputId": "2d71cd0d-fb1e-48d4-9548-4c36e064cd78"
      },
      "execution_count": 25,
      "outputs": [
        {
          "output_type": "stream",
          "name": "stdout",
          "text": [
            "Hate speech detected! Offensive words: ['cockroaches', 'kill', 'exterminate', 'tutsi']\n"
          ]
        }
      ]
    }
  ]
}