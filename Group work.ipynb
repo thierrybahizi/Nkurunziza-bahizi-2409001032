{
  "nbformat": 4,
  "nbformat_minor": 0,
  "metadata": {
    "colab": {
      "provenance": [],
      "authorship_tag": "ABX9TyPLg/WJAZHP5793cFB8S3f8",
      "include_colab_link": true
    },
    "kernelspec": {
      "name": "python3",
      "display_name": "Python 3"
    },
    "language_info": {
      "name": "python"
    }
  },
  "cells": [
    {
      "cell_type": "markdown",
      "metadata": {
        "id": "view-in-github",
        "colab_type": "text"
      },
      "source": [
        "<a href=\"https://colab.research.google.com/github/thierrybahizi/Nkurunziza-bahizi-2409001032/blob/main/Group%20work.ipynb\" target=\"_parent\"><img src=\"https://colab.research.google.com/assets/colab-badge.svg\" alt=\"Open In Colab\"/></a>"
      ]
    },
    {
      "cell_type": "code",
      "execution_count": 1,
      "metadata": {
        "id": "cCkp2eKr2z4R",
        "colab": {
          "base_uri": "https://localhost:8080/"
        },
        "outputId": "f6819dc5-310b-4b65-dd87-deeb94267b27"
      },
      "outputs": [
        {
          "output_type": "stream",
          "name": "stdout",
          "text": [
            "Connection error or request blocked for payload.\n"
          ]
        }
      ],
      "source": [
        "import requests\n",
        "\n",
        "# URL to scan\n",
        "url = \"https://juice-shop.herokuapp.com/#\"\n",
        "\n",
        "# Function to check for SQL Injection\n",
        "def check_sql_injection():\n",
        "    payloads = [\"' OR '1'='1\", \"'; DROP TABLE users; --\", '\" OR \"1\"=\"1']\n",
        "    for payload in payloads:\n",
        "        response = requests.get(url + payload)\n",
        "        if \"SQL\" in response.text or \"error\" in response.text:\n",
        "            print(f\"Potential SQL Injection detected with payload: {payload}\")\n",
        "            return True\n",
        "    print(\"No SQL Injection vulnerability detected.\")\n",
        "    return False\n",
        "\n",
        "# Function to check connection issues\n",
        "def check_connection():\n",
        "    try:\n",
        "        response = requests.get(url)\n",
        "        if response.status_code != 200:\n",
        "            print(\"Connection error or request blocked for payload.\")\n",
        "            return False\n",
        "        print(\"Connection successful.\")\n",
        "    except requests.exceptions.RequestException:\n",
        "        print(\"Connection error or request blocked.\")\n",
        "        return False\n",
        "    return True\n",
        "\n",
        "# Main function to run checks\n",
        "def main():\n",
        "    if check_connection():\n",
        "        check_sql_injection()\n",
        "\n",
        "if __name__ == \"__main__\":\n",
        "    main()"
      ]
    }
  ]
}